{
 "cells": [
  {
   "cell_type": "markdown",
   "id": "e4bc4385-5aae-4226-aee4-9f87e0293e4c",
   "metadata": {},
   "source": [
    "## Introduction\n",
    "This notebook looks at alternative methods for clustering and determining underlying distributions. \n",
    "\n",
    "Deterministic algorithms like K means clustering clearly define a data point as belonging to one cluster only.\n",
    "\n",
    "However probablistic reality may involve a data point belonging to two or more distributions.\n",
    "\n",
    "eg at a value of n, it could come from Group 1 with Probability XX%, or Group 2 with Probability YY%\n",
    "\n",
    "One way of looking at it using Mixture Models\n",
    "\n",
    "https://en.wikipedia.org/wiki/Mixture_model\n",
    "\n",
    "This method works better when there is clear overlap between populations. k means works better if there is minimal overlap. \n"
   ]
  },
  {
   "cell_type": "markdown",
   "id": "6caab14f-e1b5-4920-9d82-f5c2f1662d59",
   "metadata": {},
   "source": [
    "## Existing material\n",
    "In machine learning, the closest library I could find is the scikit-learn Gaussian Mixture Models\n",
    "\n",
    "https://scikit-learn.org/stable/modules/mixture.html\n",
    "\n",
    "However as noted, it uses Expectation Maximisation methods, with its associated advantages and disadvantages.\n",
    "\n",
    "The biggest disadvantage is that is it only used for Gaussian distributions. So if you are analysing other distributions, you are out of luck.\n"
   ]
  },
  {
   "cell_type": "markdown",
   "id": "21418b8b-514b-49e9-a7c9-1f8366336e61",
   "metadata": {},
   "source": [
    "## Proposed Alternative\n",
    "One alternative is to utilise the methods and logic underpinning Chi Squared test.\n",
    "\n",
    "It will work for any distribution which is already coded into scipy (or your other favourite library).\n",
    "\n",
    "https://en.wikipedia.org/wiki/Chi-squared_test\n",
    "\n",
    "Our machine should try to minimise the difference between the observed data and the proposed underlying distributions. \n",
    "\n",
    "Overview of methodology\n",
    "\n",
    "-Divide the observed data provided into different bins.\n",
    "\n",
    "-Quasi-randomly initiate distributions of which we think the underlying data is comprised of. For example, 2 normal distributions following mean1, variance1, proportion1, and mean2, variance2, proportion2. \n",
    "\n",
    "-Calculate the difference between the observed data in the bins, and the theoritical number of data points if our underlying distributions are correct. \n",
    "\n",
    "-Perturb the variables making up the distributions, and see which ways lowers the difference. \n",
    "\n",
    "-Adjust accordingly, and repeat until we cannot find anyway of lowering the difference between theoritical and observed\n",
    "\n",
    "This notebook will focus on how well this method holds up vs GMM and the actual distribution."
   ]
  },
  {
   "cell_type": "code",
   "execution_count": 1,
   "id": "39a7997a-03c1-4cd8-a884-52c89fa3ed1e",
   "metadata": {},
   "outputs": [],
   "source": [
    "# import the libraries\n",
    "import numpy as np\n",
    "from scipy.stats import norm\n",
    "import matplotlib.pyplot as plt\n",
    "from sklearn.mixture import GaussianMixture\n",
    "from sklearn.cluster import KMeans\n",
    "\n",
    "#from scipy.stats import weibull_min\n",
    "from scipy import stats"
   ]
  },
  {
   "cell_type": "markdown",
   "id": "6d74a8f3-0f20-4106-af24-7cc6f06b6cbc",
   "metadata": {},
   "source": [
    "These are a bunch of functions used in the code\n",
    "\n",
    "First, lets generate some random data to simulate an overlap in population. \n",
    "\n",
    "We will look at a two pop following a normal distribution. "
   ]
  },
  {
   "cell_type": "code",
   "execution_count": 2,
   "id": "fe0797d3-3fc9-4c6c-9bf9-b76c5ebbdea1",
   "metadata": {},
   "outputs": [],
   "source": [
    "# this function generates two sets of normal data. you could change it to generate n sets of data\n",
    "# it looks fairly pointless, but if you want to measure accuracy downstream, you need data1 data2 separate\n",
    "def generate_normal_data(mean1, variance1, mean2, variance2, size1, size2):\n",
    "\n",
    "    std_dev1 = np.sqrt(variance1)\n",
    "    std_dev2 = np.sqrt(variance2)\n",
    "\n",
    "    data1 = np.random.normal(loc=mean1, scale=std_dev1, size=size1)\n",
    "    data2 = np.random.normal(loc=mean2, scale=std_dev2, size=size2)\n",
    "\n",
    "    return data1, data2"
   ]
  },
  {
   "cell_type": "code",
   "execution_count": 3,
   "id": "a1e11d09-b400-460b-9961-3b1a5722893e",
   "metadata": {},
   "outputs": [],
   "source": [
    "# Set the random seed\n",
    "np.random.seed(42)"
   ]
  },
  {
   "cell_type": "code",
   "execution_count": 4,
   "id": "31c3346c-dfe7-4222-a13b-94ba47840a5e",
   "metadata": {},
   "outputs": [],
   "source": [
    "# generate the data\n",
    "mean1 = 0\n",
    "variance1 = 1\n",
    "mean2 = 1\n",
    "variance2 = 3\n",
    "size1 = 500\n",
    "size2 = 500\n",
    "\n",
    "data1, data2 = generate_normal_data(mean1, variance1, mean2, variance2, size1, size2)\n",
    "\n",
    "merged_data = np.concatenate((data1, data2))"
   ]
  },
  {
   "cell_type": "code",
   "execution_count": 5,
   "id": "90294efb-0213-4f89-a37f-be32b6e461d4",
   "metadata": {},
   "outputs": [
    {
     "name": "stdout",
     "output_type": "stream",
     "text": [
      "Mean: 0.5309812231686398\n",
      "Variance: 2.1892297987739853\n",
      "Skewness: 0.5288891226469098\n",
      "Kurtosis: 0.477923653375266\n"
     ]
    }
   ],
   "source": [
    "# get some basic stats\n",
    "# Compute mean\n",
    "mean = np.mean(merged_data)\n",
    "\n",
    "# Compute variance\n",
    "variance = np.var(merged_data, ddof=1)  # ddof=0 for population variance; use ddof=1 for sample variance\n",
    "\n",
    "# Compute skewness\n",
    "skewness = stats.skew(merged_data)\n",
    "\n",
    "# Compute kurtosis\n",
    "kurtosis = stats.kurtosis(merged_data)\n",
    "\n",
    "# Print results\n",
    "print(f\"Mean: {mean}\")\n",
    "print(f\"Variance: {variance}\")\n",
    "print(f\"Skewness: {skewness}\")\n",
    "print(f\"Kurtosis: {kurtosis}\")"
   ]
  },
  {
   "cell_type": "markdown",
   "id": "849618fa-8755-412a-8119-61941d169197",
   "metadata": {},
   "source": [
    "From the skew and kurtosis, we can already tell that it is not a pure normal distribution"
   ]
  },
  {
   "cell_type": "code",
   "execution_count": 6,
   "id": "bc8fcf90-d342-4421-937a-3c2803584e08",
   "metadata": {},
   "outputs": [
    {
     "data": {
      "image/png": "[encoded data removed]",
      "text/plain": [
       "<Figure size 800x600 with 1 Axes>"
      ]
     },
     "metadata": {},
     "output_type": "display_data"
    }
   ],
   "source": [
    "# Plot the histogram\n",
    "plt.figure(figsize=(8, 6))\n",
    "plt.hist(merged_data, bins=20, edgecolor='black')  \n",
    "plt.title('Histogram of Data')\n",
    "plt.xlabel('Value')\n",
    "plt.ylabel('Frequency')\n",
    "plt.grid(True)\n",
    "plt.show(block=True) # can remove if you want\n"
   ]
  },
  {
   "cell_type": "markdown",
   "id": "6c3bc1db-f8b7-4d85-a7c2-742a2d69fcb7",
   "metadata": {},
   "source": [
    "A look at what the kmeans clustering algo sees."
   ]
  },
  {
   "cell_type": "code",
   "execution_count": 7,
   "id": "f9e1e835-6612-4dd0-ae9a-a7155c9073a5",
   "metadata": {},
   "outputs": [
    {
     "name": "stdout",
     "output_type": "stream",
     "text": [
      "Centroids:\n",
      "[[ 2.0139602 ]\n",
      " [-0.38957137]]\n"
     ]
    }
   ],
   "source": [
    "# Create a KMeans instance with k=2\n",
    "kmeans = KMeans(n_clusters=2, random_state=42)\n",
    "data_reshaped = merged_data.reshape(-1, 1)\n",
    "# Fit the model to the data\n",
    "kmeans.fit(data_reshaped)\n",
    "\n",
    "# Get the centroids\n",
    "centroids = kmeans.cluster_centers_\n",
    "\n",
    "# Print the centroids\n",
    "print(\"Centroids:\")\n",
    "print(centroids)"
   ]
  },
  {
   "cell_type": "markdown",
   "id": "6a4438e4-3691-49b5-845e-eaeff5a32d7d",
   "metadata": {},
   "source": [
    "# Benchmark Returns in GMM\n",
    "Lets get the benchmark regression from Guassian Mixture Models in Scikit learn"
   ]
  },
  {
   "cell_type": "code",
   "execution_count": 8,
   "id": "a481ca1b-649f-4df0-8c3c-93494e2151d9",
   "metadata": {},
   "outputs": [],
   "source": [
    "def get_GMM(merged_data):\n",
    "    data3 = merged_data.reshape(-1, 1)\n",
    "    # Initialize GaussianMixture with 2 components\n",
    "    gmm = GaussianMixture(n_components=2, covariance_type='full', random_state=0)\n",
    "\n",
    "    # Fit the model\n",
    "    gmm.fit(data3)\n",
    "\n",
    "    # Extract means, variances, and proportions\n",
    "    means = gmm.means_.flatten()  # Means of the Gaussian components\n",
    "    covariances = gmm.covariances_  # Covariances of the Gaussian components\n",
    "    weights = gmm.weights_  # Proportions (weights) of the Gaussian components\n",
    "\n",
    "    return means, covariances, weights"
   ]
  },
  {
   "cell_type": "code",
   "execution_count": 9,
   "id": "0c1fe821-6cfc-4857-a305-0248bb3f0c5f",
   "metadata": {},
   "outputs": [
    {
     "name": "stdout",
     "output_type": "stream",
     "text": [
      "pop1 mean 1.710478276078463 var [[2.12240684]] prop 0.35071867690561936\n",
      "pop2 mean -0.10614113211352304 var [[1.06454612]] prop 0.6492813230943806\n"
     ]
    }
   ],
   "source": [
    "# This section gets GMM answers\n",
    "GMM_means, GMM_covariances, GMM_weights = get_GMM(merged_data)\n",
    "print(\"pop1\", \"mean\",GMM_means[0], \"var\",GMM_covariances[0],\"prop\",GMM_weights[0])\n",
    "print(\"pop2\", \"mean\",GMM_means[1], \"var\",GMM_covariances[1],\"prop\",GMM_weights[1])\n"
   ]
  },
  {
   "cell_type": "markdown",
   "id": "7d2d96b9-bb89-4b9b-aed3-0d29f164d214",
   "metadata": {},
   "source": [
    "# Algorithm based on Chi Squared Test Methods\n",
    "\n",
    "First up, these functions calculate the theoritical values which should occur between the bins, and the observed values from the data.\n",
    "\n",
    "The CDF function can be edited if you want a different distribution. "
   ]
  },
  {
   "cell_type": "code",
   "execution_count": 21,
   "id": "ec82d0ab-32bd-4618-b053-1f0f758aac5c",
   "metadata": {},
   "outputs": [],
   "source": [
    "def cdf_between_consecutive_numbers(numbers, mean=0, variance=1):\n",
    "    \"\"\"\n",
    "    Calculates the CDF between consecutive numbers in the list using a normal distribution.\n",
    "\n",
    "    Parameters:\n",
    "    - numbers: List of numbers to calculate CDF between consecutive elements.\n",
    "    - mean: Mean of the normal distribution (default is 0).\n",
    "    - variance: Variance of the normal distribution (default is 1).\n",
    "\n",
    "    Returns:\n",
    "    - List of CDF values between consecutive numbers.\n",
    "    \"\"\"\n",
    "    # Convert variance to standard deviation\n",
    "    std_dev = np.sqrt(variance)\n",
    "\n",
    "    # List to hold the CDF values between consecutive numbers\n",
    "    cdf_values = []\n",
    "\n",
    "    # Iterate over consecutive pairs of numbers\n",
    "    for i in range(len(numbers) + 1):\n",
    "        #print(i)\n",
    "        # Get the lower and upper bounds\n",
    "        if i == 0:\n",
    "            lower_bound = -999999\n",
    "            upper_bound = numbers[i]\n",
    "        elif i == len(numbers):\n",
    "            lower_bound = numbers[i - 1]\n",
    "            upper_bound = 999999\n",
    "        else:\n",
    "            lower_bound = numbers[i-1]\n",
    "            upper_bound = numbers[i]\n",
    "\n",
    "        # EDIT THE CDF YOU WANT HERE!\n",
    "        \n",
    "        # Calculate the CDF values for these bounds\n",
    "        cdf_lower = norm.cdf(lower_bound, loc=mean, scale=std_dev)\n",
    "        cdf_upper = norm.cdf(upper_bound, loc=mean, scale=std_dev)\n",
    "\n",
    "        # The difference between the CDF values of upper and lower bounds\n",
    "        cdf_between = cdf_upper - cdf_lower\n",
    "\n",
    "        # Append the result to the list\n",
    "        cdf_values.append(cdf_between)\n",
    "\n",
    "    cdf_values = np.array(cdf_values)\n",
    "    return cdf_values\n",
    "\n",
    "\n",
    "def count_entries_within_boundaries(data, boundaries):\n",
    "    \"\"\"\n",
    "    Counts the number of entries in the data array that fall within each boundary interval.\n",
    "\n",
    "    Parameters:\n",
    "    - data: Numpy array of data to be analyzed.\n",
    "    - boundaries: List of boundary values defining the intervals.\n",
    "\n",
    "    Returns:\n",
    "    - List of counts for each interval defined by consecutive boundaries.\n",
    "    \"\"\"\n",
    "    # Sort boundaries to ensure correct interval calculation\n",
    "    sorted_boundaries = sorted(boundaries)\n",
    "\n",
    "    # Initialize a list to hold counts\n",
    "    counts = []\n",
    "\n",
    "    # Iterate over consecutive pairs of boundaries\n",
    "    for i in range(len(sorted_boundaries)+1):\n",
    "\n",
    "        #print(i)\n",
    "        # Get the lower and upper bounds\n",
    "        if i == 0:\n",
    "            lower_bound = -999999\n",
    "            upper_bound = sorted_boundaries[i]\n",
    "        elif i == len(sorted_boundaries):\n",
    "            lower_bound = sorted_boundaries[i - 1]\n",
    "            upper_bound = 999999\n",
    "        else:\n",
    "            lower_bound = sorted_boundaries[i - 1]\n",
    "            upper_bound = sorted_boundaries[i]\n",
    "        #print(lower_bound, upper_bound)\n",
    "\n",
    "        #lower_bound = sorted_boundaries[i]\n",
    "        #upper_bound = sorted_boundaries[i + 1]\n",
    "\n",
    "        # Count the number of entries within the current interval\n",
    "        count = np.sum((data >= lower_bound) & (data < upper_bound))\n",
    "        counts.append(count)\n",
    "\n",
    "    counts = np.array(counts)\n",
    "\n",
    "    return counts\n",
    "\n",
    "def get_chi_squared(pop_observed,numbers, mean_pop1,variance_pop1,proportion_pop1,mean_pop2, variance_pop2,proportion_pop2):\n",
    "\n",
    "    pop1 = cdf_between_consecutive_numbers(numbers, mean_pop1, variance_pop1)\n",
    "    pop2 = cdf_between_consecutive_numbers(numbers, mean_pop2, variance_pop2)\n",
    "\n",
    "    pop_size = sum(pop_observed)  \n",
    "    pop_merged = (pop1 * proportion_pop1 + pop2 * proportion_pop2) * pop_size\n",
    "\n",
    "    # EDIT HERE FOR YOUR LOSS FUNCTION\n",
    "    \n",
    "    #loss_value = get_absolute_differences(pop_merged,pop_observed)\n",
    "    #loss_value = get_squared_differences(pop_merged, pop_observed)\n",
    "    loss_value = get_percent_differences(pop_merged, pop_observed)\n",
    "\n",
    "    return loss_value"
   ]
  },
  {
   "cell_type": "markdown",
   "id": "65feb842-4989-45e5-a8ee-e83e5d0df0c5",
   "metadata": {},
   "source": [
    "# Three board groups of functions:\n",
    "- What are the bins for observation vs expected?\n",
    "- What is the loss function to evaluate them?\n",
    "- How should our Machine Learn?"
   ]
  },
  {
   "cell_type": "markdown",
   "id": "55bd06f4-8425-4792-927d-ffc437a032af",
   "metadata": {},
   "source": [
    "# Bin Divisions\n",
    "\n",
    "These functions determine the bin markers.\n",
    "\n",
    "There are two main choices.\n",
    "- Divide by equal length. in create_bins, we just linearly divide up the observed data.\n",
    "- Divide by equal content. in create_bins_equal, we divide up the data so that every bin has an equal number of observations.\n",
    "\n",
    "You can customise this as well. "
   ]
  },
  {
   "cell_type": "code",
   "execution_count": 10,
   "id": "79e06442-d08c-4799-97cd-8cc094bf3c60",
   "metadata": {},
   "outputs": [],
   "source": [
    "# bin plotting\n",
    "# two choices\n",
    "def create_bins(data, bin_size):\n",
    "    \"\"\"\n",
    "    Creates a list of equally spaced intervals (bins) based on the given bin size.\n",
    "\n",
    "    Parameters:\n",
    "    - data: Numpy array of data to analyze.\n",
    "    - bin_size: Number of bins to create.\n",
    "\n",
    "    Returns:\n",
    "    - List of bin edges.\n",
    "    \"\"\"\n",
    "    # Determine the range of the data\n",
    "    min_value = np.min(data)\n",
    "    max_value = np.max(data)\n",
    "\n",
    "    # Create bin edges using linspace\n",
    "    bin_edges = np.linspace(min_value, max_value, num=bin_size + 1)\n",
    "\n",
    "    return bin_edges\n",
    "\n",
    "def create_bins_equal(data, bins):\n",
    "    # Sort the array in ascending order\n",
    "    sorted_data = np.sort(data)\n",
    "    #n_element = np.size(data) / bins\n",
    "    #n_elements = len(sorted_data)\n",
    "    n_element = int(np.ceil(len(sorted_data) / bins))  # Ensure integer division with rounding up\n",
    "\n",
    "\n",
    "    # Get every 10th element\n",
    "    indices = np.arange(0, len(sorted_data), n_element)\n",
    "    every_nth_elements = sorted_data[indices]\n",
    "\n",
    "    # Check if the last element of the sorted array is included\n",
    "    if every_nth_elements[-1] != sorted_data[-1]:\n",
    "        every_nth_elements = np.append(every_nth_elements, sorted_data[-1])\n",
    "\n",
    "    return every_nth_elements"
   ]
  },
  {
   "cell_type": "markdown",
   "id": "6b59c672-4232-4cb0-bdce-78c390c6592f",
   "metadata": {},
   "source": [
    "# Loss Functions\n",
    "\n",
    "These are the possible loss functions for each bin.\n",
    "- get_absolute_differences: use the absolute differenece, then sum over all bins. This penalises all errors equally.\n",
    "- get_squared_differences: use the squared difference, then sum. This penalises large errors in bins.\n",
    "- get_percent_differences: use the squared difference, but divide by expected observations. This penalises large percentage errors in bins\n",
    "\n",
    "You can pick and choose whichever one suits your needs and perferences. \n",
    "  "
   ]
  },
  {
   "cell_type": "code",
   "execution_count": 11,
   "id": "578351af-6c98-4cfd-a78e-1d7c28e72ec8",
   "metadata": {},
   "outputs": [],
   "source": [
    "# loss functions\n",
    "def get_absolute_differences(array1, array2):\n",
    "    \"\"\"\n",
    "    Calculates the absolute differences between corresponding entries in two lists.\n",
    "\n",
    "    Parameters:\n",
    "    - list1: First list of numbers.\n",
    "    - list2: Second list of numbers.\n",
    "\n",
    "    Returns:\n",
    "    - List of absolute differences between corresponding entries of list1 and list2.\n",
    "    \"\"\"\n",
    "    if array1.shape != array2.shape:\n",
    "        raise ValueError(\"Both arrays must be of equal shape.\")\n",
    "\n",
    "    # Calculate absolute differences\n",
    "    differences = np.abs(array1 - array2)\n",
    "\n",
    "    # Calculate the sum of the differences\n",
    "    total_sum = float(np.sum(differences))\n",
    "\n",
    "    return total_sum\n",
    "\n",
    "def get_squared_differences(array1, array2):\n",
    "\n",
    "    if array1.shape != array2.shape:\n",
    "        raise ValueError(\"Both arrays must be of equal shape.\")\n",
    "\n",
    "    squared_diff = np.sum((array1 - array2) ** 2)\n",
    "    squared_diff = float(squared_diff)\n",
    "    return squared_diff\n",
    "\n",
    "def get_percent_differences(array1, array2):\n",
    "\n",
    "    if array1.shape != array2.shape:\n",
    "        raise ValueError(\"Both arrays must be of equal shape.\")\n",
    "\n",
    "    squared_diff = np.sum((array1 - array2) ** 2 / array1)\n",
    "    squared_diff = float(squared_diff)\n",
    "    return squared_diff"
   ]
  },
  {
   "cell_type": "markdown",
   "id": "7a2598a6-51c5-4164-b002-55a4d38a6a74",
   "metadata": {},
   "source": [
    "# Machine Learning Options\n",
    "\n",
    "Finally, we have two choices for deciding how to iterate and change the distribution values\n",
    "- do_run_slow. This function looks for the which single value is changed the most by varying, and only adjusts it by the increment.\n",
    "- do_run_fast. This function looks to adjust all values at the same time, in the direction to which will individually lower the difference.\n",
    "\n",
    "note that the increment needs to be adjusted depending on the data and the bins chosen:\n",
    "- If you data is on a different order of magnitude (eg variance is 30 and mean is 10, then adjusting by 0.01 may not have any effect)\n",
    "- If your bin size is too big, then changing the increment may not result in any change in observed vs empirical.\n",
    "- variance in general i make it at 5x the increment because otherwises there is no change in observed vs empirical. \n"
   ]
  },
  {
   "cell_type": "code",
   "execution_count": 29,
   "id": "aaf7c278-f006-4447-9aa0-baeb31ead665",
   "metadata": {},
   "outputs": [],
   "source": [
    "# two functions\n",
    "def do_run_slow(pop_observed, numbers, mean_pop1, var_pop1, prop_pop1, mean_pop2, var_pop2, prop_pop2,inc = 0.01):\n",
    "\n",
    "    for x1 in range(1000):\n",
    "\n",
    "        loss_value = get_chi_squared(pop_observed, numbers, mean_pop1, var_pop1, prop_pop1, mean_pop2, var_pop2,\n",
    "                                     prop_pop2)\n",
    "\n",
    "        loss_value_mp1p = get_chi_squared(pop_observed, numbers, mean_pop1 + inc, var_pop1, prop_pop1, mean_pop2,\n",
    "                                          var_pop2, prop_pop2)\n",
    "        loss_value_vp1p = get_chi_squared(pop_observed, numbers, mean_pop1, var_pop1 + inc * 5, prop_pop1, mean_pop2,\n",
    "                                          var_pop2, prop_pop2)\n",
    "        loss_value_pp1p = get_chi_squared(pop_observed, numbers, mean_pop1, var_pop1, prop_pop1 + inc, mean_pop2,\n",
    "                                          var_pop2, prop_pop2 - inc)\n",
    "        loss_value_mp2p = get_chi_squared(pop_observed, numbers, mean_pop1, var_pop1, prop_pop1, mean_pop2 + inc,\n",
    "                                          var_pop2, prop_pop2)\n",
    "        loss_value_vp2p = get_chi_squared(pop_observed, numbers, mean_pop1, var_pop1, prop_pop1, mean_pop2,\n",
    "                                          var_pop2 + 5 * inc, prop_pop2)\n",
    "        loss_value_pp2p = get_chi_squared(pop_observed, numbers, mean_pop1, var_pop1, prop_pop1 - inc, mean_pop2,\n",
    "                                          var_pop2, prop_pop2 + inc)\n",
    "\n",
    "        loss_value_mp1n = get_chi_squared(pop_observed, numbers, mean_pop1 - inc, var_pop1, prop_pop1, mean_pop2,\n",
    "                                          var_pop2, prop_pop2)\n",
    "        loss_value_vp1n = get_chi_squared(pop_observed, numbers, mean_pop1, var_pop1 - 5 * inc, prop_pop1, mean_pop2,\n",
    "                                          var_pop2, prop_pop2)\n",
    "        loss_value_mp2n = get_chi_squared(pop_observed, numbers, mean_pop1, var_pop1, prop_pop1, mean_pop2 - inc,\n",
    "                                          var_pop2, prop_pop2)\n",
    "        loss_value_vp2n = get_chi_squared(pop_observed, numbers, mean_pop1, var_pop1, prop_pop1, mean_pop2,\n",
    "                                          var_pop2 - 5 * inc, prop_pop2)\n",
    "\n",
    "        variables_new = {\n",
    "            'mean_pop1_p': loss_value_mp1p,\n",
    "            'mean_pop1_n': loss_value_mp1n,\n",
    "            'mean_pop2_p': loss_value_mp2p,\n",
    "            'mean_pop2_n': loss_value_mp2n,\n",
    "            'var_pop1_p': loss_value_vp1p,\n",
    "            'var_pop1_n': loss_value_vp1n,\n",
    "            'var_pop2_p': loss_value_vp2p,\n",
    "            'var_pop2_n': loss_value_vp2n,\n",
    "            'prop_pop1': loss_value_pp1p,\n",
    "            'prop_pop2': loss_value_pp2p\n",
    "        }\n",
    "\n",
    "        smallest_name, smallest_value = min(variables_new.items(), key=lambda item: item[1])\n",
    "\n",
    "        if smallest_value < loss_value:\n",
    "\n",
    "            if smallest_name == 'mean_pop1_p':\n",
    "                mean_pop1 += inc\n",
    "                mean_pop1 = round(mean_pop1,2)\n",
    "            elif smallest_name == 'mean_pop1_n':\n",
    "                mean_pop1 -= inc\n",
    "                mean_pop1 = round(mean_pop1,2)\n",
    "            elif smallest_name == 'mean_pop2_p':\n",
    "                mean_pop2 += inc\n",
    "                mean_pop2 = round(mean_pop2,2)\n",
    "            elif smallest_name == 'mean_pop2_n':\n",
    "                mean_pop2 -= inc\n",
    "                mean_pop2 = round(mean_pop2,2)\n",
    "            elif smallest_name == 'var_pop2_p':\n",
    "                var_pop2 += inc\n",
    "                var_pop2 = round(var_pop2,2)\n",
    "            elif smallest_name == 'var_pop2_n':\n",
    "                var_pop2 -= inc\n",
    "                var_pop2 = round(var_pop2,2)\n",
    "            elif smallest_name == 'var_pop1_p':\n",
    "                var_pop1 += inc\n",
    "                var_pop1 = round(var_pop1,2)\n",
    "            elif smallest_name == 'var_pop1_n':\n",
    "                var_pop1 -= inc\n",
    "                var_pop1 = round(var_pop1, 2)\n",
    "            elif smallest_name == 'prop_pop1':\n",
    "                prop_pop1 += inc\n",
    "                prop_pop2 -= inc\n",
    "                prop_pop1 = round(prop_pop1, 2)\n",
    "                prop_pop2 = round(prop_pop2, 2)\n",
    "            elif smallest_name == 'prop_pop2':\n",
    "                prop_pop2 += inc\n",
    "                prop_pop1 -= inc\n",
    "                prop_pop1 = round(prop_pop1, 2)\n",
    "                prop_pop2 = round(prop_pop2, 2)\n",
    "            else:\n",
    "                print('something went wrong!')\n",
    "        else:\n",
    "            print('we are done', x1, loss_value)\n",
    "            #print(mean_pop1, var_pop1, prop_pop1, mean_pop2, var_pop2, prop_pop2)\n",
    "            print(\"mean\",mean_pop1,\"var\", var_pop1, \"prop\", prop_pop1)\n",
    "            print(\"mean\",mean_pop2, \"var\",var_pop2, \"prop\", prop_pop2)\n",
    "            break\n",
    "\n",
    "    return mean_pop1,var_pop1,prop_pop1,mean_pop2,var_pop2,prop_pop2, loss_value\n",
    "\n",
    "def do_run_fast(pop_observed, numbers, mean_pop1, var_pop1, prop_pop1, mean_pop2, var_pop2, prop_pop2,inc = 0.01):\n",
    "\n",
    "    last_loss_value = float('inf')\n",
    "\n",
    "    for x1 in range(1000):\n",
    "\n",
    "        loss_value = get_chi_squared(pop_observed, numbers, mean_pop1, var_pop1, prop_pop1, mean_pop2, var_pop2, prop_pop2)\n",
    "\n",
    "        loss_value_mp1p = get_chi_squared(pop_observed, numbers, mean_pop1 + inc, var_pop1, prop_pop1, mean_pop2, var_pop2, prop_pop2)\n",
    "        loss_value_vp1p = get_chi_squared(pop_observed, numbers, mean_pop1, var_pop1 + inc*5, prop_pop1, mean_pop2, var_pop2, prop_pop2)\n",
    "        loss_value_pp1p = get_chi_squared(pop_observed, numbers, mean_pop1, var_pop1, prop_pop1 + inc, mean_pop2, var_pop2, prop_pop2 - inc)\n",
    "        loss_value_mp2p = get_chi_squared(pop_observed, numbers, mean_pop1, var_pop1, prop_pop1, mean_pop2 + inc, var_pop2, prop_pop2)\n",
    "        loss_value_vp2p = get_chi_squared(pop_observed, numbers, mean_pop1, var_pop1, prop_pop1, mean_pop2, var_pop2 + 5*inc, prop_pop2)\n",
    "        loss_value_pp2p = get_chi_squared(pop_observed, numbers, mean_pop1, var_pop1, prop_pop1 - inc, mean_pop2, var_pop2, prop_pop2 + inc)\n",
    "\n",
    "        loss_value_mp1n = get_chi_squared(pop_observed, numbers, mean_pop1 - inc, var_pop1, prop_pop1, mean_pop2, var_pop2, prop_pop2)\n",
    "        loss_value_vp1n = get_chi_squared(pop_observed, numbers, mean_pop1, var_pop1 - 5*inc, prop_pop1, mean_pop2, var_pop2, prop_pop2)\n",
    "\n",
    "        loss_value_mp2n = get_chi_squared(pop_observed, numbers, mean_pop1, var_pop1, prop_pop1, mean_pop2 - inc, var_pop2, prop_pop2)\n",
    "        loss_value_vp2n = get_chi_squared(pop_observed, numbers, mean_pop1, var_pop1, prop_pop1, mean_pop2, var_pop2 - 5*inc, prop_pop2)\n",
    "\n",
    "        changed = False\n",
    "        if loss_value_mp1p < loss_value_mp1n and loss_value_mp1p < loss_value:\n",
    "            mean_pop1 += inc\n",
    "            mean_pop1 = round(mean_pop1, 2)\n",
    "            changed = True\n",
    "        elif loss_value_mp1p > loss_value_mp1n and loss_value_mp1n < loss_value:\n",
    "            mean_pop1 -= inc\n",
    "            mean_pop1 = round(mean_pop1, 2)\n",
    "            changed = True\n",
    "\n",
    "        if loss_value_mp2p < loss_value_mp2n and loss_value_mp2p < loss_value:\n",
    "            mean_pop2 += inc\n",
    "            mean_pop2 = round(mean_pop2, 2)\n",
    "            changed = True\n",
    "        elif loss_value_mp2n < loss_value_mp2p and loss_value_mp2n < loss_value:\n",
    "            mean_pop2 -= inc\n",
    "            mean_pop2 = round(mean_pop2, 2)\n",
    "            changed = True\n",
    "\n",
    "        if loss_value_vp1p < loss_value_vp1n and loss_value_vp1p < loss_value:\n",
    "            var_pop1 += inc * 5\n",
    "            var_pop1 = round(var_pop1, 2)\n",
    "            changed = True\n",
    "        elif loss_value_vp1n < loss_value_vp1p and loss_value_vp1n < loss_value:\n",
    "            var_pop1 -= inc * 5\n",
    "            var_pop1 = round(var_pop1, 2)\n",
    "            changed = True\n",
    "\n",
    "        if loss_value_vp2p < loss_value_vp2n and loss_value_vp2p < loss_value:\n",
    "            var_pop2 += inc * 5\n",
    "            var_pop2 = round(var_pop2, 2)\n",
    "            changed = True\n",
    "        elif loss_value_vp2n < loss_value_vp2p and loss_value_vp2n < loss_value:\n",
    "            var_pop2 -= inc * 5\n",
    "            var_pop2 = round(var_pop2, 2)\n",
    "            changed = True\n",
    "\n",
    "        if loss_value_pp2p < loss_value_pp1p and loss_value_pp2p < loss_value:\n",
    "            prop_pop2 += inc\n",
    "            prop_pop1 -= inc\n",
    "            prop_pop1 = round(prop_pop1, 2)\n",
    "            prop_pop2 = round(prop_pop2, 2)\n",
    "            changed = True\n",
    "        elif loss_value_pp1p < loss_value_pp2p and loss_value_pp1p < loss_value:\n",
    "            prop_pop2 -= inc\n",
    "            prop_pop1 += inc\n",
    "            prop_pop1 = round(prop_pop1, 2)\n",
    "            prop_pop2 = round(prop_pop2, 2)\n",
    "            changed = True\n",
    "        #print(mean_pop1, var_pop1, prop_pop1, mean_pop2, var_pop2, prop_pop2)\n",
    "\n",
    "        if loss_value < last_loss_value:\n",
    "            last_loss_value = loss_value\n",
    "        else:\n",
    "            print('we are done', x1, loss_value)\n",
    "            print(\"mean\",mean_pop1,\"var\", var_pop1, \"prop\", prop_pop1)\n",
    "            print(\"mean\",mean_pop2, \"var\",var_pop2, \"prop\", prop_pop2)\n",
    "            break\n",
    "\n",
    "        if changed == False:\n",
    "            print('we are done',x1, loss_value)\n",
    "            print(\"mean\",mean_pop1,\"var\", var_pop1, \"prop\", prop_pop1)\n",
    "            print(\"mean\",mean_pop2, \"var\",var_pop2, \"prop\", prop_pop2)\n",
    "            break\n",
    "        else:\n",
    "            pass\n",
    "\n",
    "    return mean_pop1,var_pop1,prop_pop1,mean_pop2,var_pop2,prop_pop2, loss_value\n"
   ]
  },
  {
   "cell_type": "markdown",
   "id": "5e98d0aa-5ac3-46ba-8f36-a1c5cc4ccdb7",
   "metadata": {},
   "source": [
    "Some miscellanous code, just some functions or data structures to store information. "
   ]
  },
  {
   "cell_type": "code",
   "execution_count": 23,
   "id": "23444daa-7b7e-4849-b082-89c4cd53fa32",
   "metadata": {},
   "outputs": [],
   "source": [
    "# store the intial data. it can be reused. \n",
    "variables = {\n",
    "    'mean_pop1': mean1,\n",
    "    'var_pop1': variance1,\n",
    "    'prop_pop1': size1,\n",
    "    'mean_pop2': mean2,\n",
    "    'var_pop2': variance2,\n",
    "    'prop_pop2': size2\n",
    "}\n",
    "\n",
    "\n",
    "def store_variables(mean_pop1, var_pop1, prop_pop1, mean_pop2, var_pop2, prop_pop2):\n",
    "\n",
    "    new_list = [mean_pop1, var_pop1, prop_pop1, mean_pop2, var_pop2, prop_pop2]\n",
    "\n",
    "    return new_list\n"
   ]
  },
  {
   "cell_type": "markdown",
   "id": "5d0000a6-cace-42b4-bb13-dd806587f213",
   "metadata": {},
   "source": [
    "# Running the Algo\n",
    "\n",
    "We have selected Percentage Difference for the loss function and equal amounts of our data per bin. "
   ]
  },
  {
   "cell_type": "code",
   "execution_count": 18,
   "id": "b6e681b4-d948-4133-bf84-b5b7e89ce3be",
   "metadata": {},
   "outputs": [],
   "source": [
    "# store our run values in this dictionary. \n",
    "# you can use a nested list as well but downstream will need editing\n",
    "run_results = {}"
   ]
  },
  {
   "cell_type": "code",
   "execution_count": 25,
   "id": "eef382ee-672c-45cf-bed9-f978d4fb10f8",
   "metadata": {},
   "outputs": [],
   "source": [
    "# initial the guesses. you can start from what looks like decent values\n",
    "mean_pop1 = -0.5\n",
    "var_pop1 = 2\n",
    "prop_pop1 = 0.5\n",
    "mean_pop2 = 0.6\n",
    "var_pop2 = 4\n",
    "prop_pop2 = 0.5\n",
    "\n",
    "variables_guess = {\n",
    "    'mean_pop1': mean_pop1,\n",
    "    'var_pop1': var_pop1,\n",
    "    'prop_pop1': prop_pop1,\n",
    "    'mean_pop2': mean_pop2,\n",
    "    'var_pop2': var_pop2,\n",
    "    'prop_pop2': prop_pop2\n",
    "}"
   ]
  },
  {
   "cell_type": "code",
   "execution_count": 26,
   "id": "d5048cbe-7941-4ec9-bddf-990e6c05e3bc",
   "metadata": {},
   "outputs": [
    {
     "name": "stdout",
     "output_type": "stream",
     "text": [
      "we are done 48 29.597292086550247\n",
      "mean -0.07 var 0.8 prop 0.44\n",
      "mean 1.01 var 2.8 prop 0.56\n"
     ]
    }
   ],
   "source": [
    "# choose your bin values and distribution\n",
    "bins = 30\n",
    "\n",
    "#numbers = create_bins(merged_data, bins)\n",
    "numbers = create_bins_equal(merged_data, bins)\n",
    "\n",
    "pop_observed = count_entries_within_boundaries(merged_data, numbers)\n",
    "\n",
    "# do perturb\n",
    "inc = 0.01\n",
    "\n",
    "mean_pop1,var_pop1,prop_pop1,mean_pop2,var_pop2,prop_pop2,loss_value = do_run_fast(pop_observed, numbers, mean_pop1, var_pop1, prop_pop1, mean_pop2, var_pop2, prop_pop2)\n",
    "fast_run = store_variables(mean_pop1, var_pop1, prop_pop1, mean_pop2, var_pop2, prop_pop2)\n",
    "run_results[loss_value]= fast_run"
   ]
  },
  {
   "cell_type": "code",
   "execution_count": 30,
   "id": "09d2b8b4-40f3-4246-8fbc-900840158e38",
   "metadata": {},
   "outputs": [
    {
     "name": "stdout",
     "output_type": "stream",
     "text": [
      "we are done 342 28.872573538845774\n",
      "mean -0.03 var 0.94 prop 0.51\n",
      "mean 1.13 var 2.85 prop 0.49\n"
     ]
    }
   ],
   "source": [
    "# re-initial the guesses\n",
    "mean_pop1 = variables_guess['mean_pop1']\n",
    "var_pop1 = variables_guess['var_pop1']\n",
    "prop_pop1 = variables_guess['prop_pop1']\n",
    "mean_pop2 = variables_guess['mean_pop2']\n",
    "var_pop2 = variables_guess['var_pop2']\n",
    "prop_pop2 = variables_guess['prop_pop2']\n",
    "\n",
    "mean_pop1,var_pop1,prop_pop1,mean_pop2,var_pop2,prop_pop2,loss_value= do_run_slow(pop_observed, numbers, mean_pop1, var_pop1, prop_pop1, mean_pop2, var_pop2, prop_pop2)\n",
    "slow_run = store_variables(mean_pop1, var_pop1, prop_pop1, mean_pop2, var_pop2, prop_pop2)\n",
    "run_results[loss_value]= slow_run"
   ]
  },
  {
   "cell_type": "code",
   "execution_count": 33,
   "id": "98ea8413-2c10-46d1-861e-45d007232936",
   "metadata": {},
   "outputs": [
    {
     "name": "stdout",
     "output_type": "stream",
     "text": [
      "original values\n",
      "mean_pop1 0\n",
      "var_pop1 1\n",
      "prop_pop1 500\n",
      "mean_pop2 1\n",
      "var_pop2 3\n",
      "prop_pop2 500\n",
      "fast run\n",
      "mean -0.07 var 0.8 prop 0.44\n",
      "mean 1.01 var 2.8 prop 0.56\n",
      "slow run\n",
      "mean -0.03 var 0.94 prop 0.51\n",
      "mean 1.13 var 2.85 prop 0.49\n",
      "GMM Values\n",
      "pop1 1.710478276078463 [[2.12240684]] 0.35071867690561936\n",
      "pop2 -0.10614113211352304 [[1.06454612]] 0.6492813230943806\n"
     ]
    }
   ],
   "source": [
    "# this block just prints the results\n",
    "print('original values')\n",
    "for key, value in variables.items():\n",
    "    print(key,value)\n",
    "print('fast run')\n",
    "#print(fast_run)\n",
    "print(\"mean\",fast_run[0],\"var\", fast_run[1], \"prop\", fast_run[2])\n",
    "print(\"mean\",fast_run[3], \"var\",fast_run[4], \"prop\", fast_run[5])\n",
    "print('slow run')\n",
    "#print(slow_run)\n",
    "print(\"mean\",slow_run[0],\"var\", slow_run[1], \"prop\", slow_run[2])\n",
    "print(\"mean\",slow_run[3], \"var\",slow_run[4], \"prop\", slow_run[5])\n",
    "print(\"GMM Values\")\n",
    "print(\"pop1\", GMM_means[0], GMM_covariances[0],GMM_weights[0])\n",
    "print(\"pop2\", GMM_means[1], GMM_covariances[1],GMM_weights[1])\n",
    "\n"
   ]
  },
  {
   "cell_type": "code",
   "execution_count": 34,
   "id": "4c9a1904-004c-4140-b681-86ef510e87e3",
   "metadata": {},
   "outputs": [
    {
     "name": "stdout",
     "output_type": "stream",
     "text": [
      "29.597292086550247 [-0.07, 0.8, 0.44, 1.01, 2.8, 0.56]\n",
      "28.872573538845774 [-0.03, 0.94, 0.51, 1.13, 2.85, 0.49]\n"
     ]
    }
   ],
   "source": [
    "# if you run many times, this block prints the results stored\n",
    "for key, value in run_results.items():\n",
    "    print(key, value)\n"
   ]
  },
  {
   "cell_type": "markdown",
   "id": "59c58dd3-a0b5-4fab-a40d-8568386fd532",
   "metadata": {},
   "source": [
    "# Time to visualise the results"
   ]
  },
  {
   "cell_type": "code",
   "execution_count": 47,
   "id": "f3f3dc5a-6ea1-4b18-9aeb-01cdea067d16",
   "metadata": {},
   "outputs": [],
   "source": [
    "# used for plotting graphs only. Its similiar to an above function which returned difference things\n",
    "def get_obs_act(merged_data,numbers, mean_pop1,variance_pop1,proportion_pop1,mean_pop2, variance_pop2,proportion_pop2,pop_size):\n",
    "\n",
    "    pop_observed = count_entries_within_boundaries(merged_data, numbers)\n",
    "\n",
    "    pop1 = cdf_between_consecutive_numbers(numbers, mean_pop1, variance_pop1)\n",
    "    pop2 = cdf_between_consecutive_numbers(numbers, mean_pop2, variance_pop2)\n",
    "    pop_merged = (pop1 * proportion_pop1 + pop2 * proportion_pop2) * pop_size\n",
    "\n",
    "    #chi_squared,loss_value = absolute_differences(pop_merged,pop_observed)\n",
    "\n",
    "    return pop_merged,pop_observed\n",
    "\n",
    "\n",
    "def do_plot_compare(merged_data,numbers,mean_pop1,var_pop1,prop_pop1,mean_pop2,var_pop2,prop_pop2):\n",
    "    pop_size = np.size(merged_data)\n",
    "\n",
    "    pop_merged,pop_observed = get_obs_act(merged_data,numbers, mean_pop1,var_pop1,prop_pop1,mean_pop2, var_pop2,prop_pop2, pop_size)\n",
    "\n",
    "    #pop_gmm,pop_observed = get_obs_act(merged_data,numbers, float(GMM_means[0]),float(GMM_covariances[0][0][0]),float(GMM_weights[0]),float(GMM_means[0]),float(GMM_covariances[1][0][0]),float(GMM_weights[1]), pop_size)\n",
    "    pop_gmm,pop_observed = get_obs_act(merged_data,numbers, GMM_means[0],GMM_covariances[0][0][0],GMM_weights[0],GMM_means[1],GMM_covariances[1][0][0],GMM_weights[1], pop_size)\n",
    "    x = np.arange(bins+2)\n",
    "    bar_width = 0.35\n",
    "\n",
    "    # Create a bar chart\n",
    "    plt.figure(figsize=(12, 8))\n",
    "\n",
    "    # Plot bars for the first array\n",
    "    plt.bar(x - bar_width, pop_observed, bar_width, label='Observed', color='b')\n",
    "\n",
    "    # Plot bars for the second array\n",
    "    plt.bar(x , pop_merged, bar_width, label='Predicted', color='r')\n",
    "\n",
    "    plt.bar(x + bar_width, pop_gmm, bar_width, label='GMM', color='g')\n",
    "\n",
    "    # Add labels and title\n",
    "    plt.xlabel('Index')\n",
    "    plt.ylabel('Values')\n",
    "    plt.title('Bar Chart of Two NumPy Arrays')\n",
    "    plt.legend()\n",
    "\n",
    "    # Display the plot\n",
    "    plt.grid(axis='y', linestyle='--', alpha=0.7)\n",
    "    #plt.xticks(x)  # Ensure x-axis ticks are centered\n",
    "    plt.show(block=True)"
   ]
  },
  {
   "cell_type": "code",
   "execution_count": null,
   "id": "c9465f14-98aa-4d53-a7df-2924cc78a899",
   "metadata": {},
   "outputs": [],
   "source": [
    "# This section is optional. Reset it to whatever values you want, else it just uses the last ones in the memory\n",
    "\n",
    "mean_pop1 = -0.5\n",
    "var_pop1 = 1\n",
    "prop_pop1 = 0.5\n",
    "mean_pop2 = 1.5\n",
    "var_pop2 = 2\n",
    "prop_pop2 = 0.5\n",
    "\n"
   ]
  },
  {
   "cell_type": "code",
   "execution_count": 46,
   "id": "6438574e-7ce0-4786-8a30-1663e77db977",
   "metadata": {},
   "outputs": [
    {
     "name": "stdout",
     "output_type": "stream",
     "text": [
      "pop1 1.710478276078463 2.1224068383570733 0.35071867690561936\n",
      "pop2 -0.10614113211352304 1.0645461155093616 0.6492813230943806\n"
     ]
    }
   ],
   "source": [
    "print(\"pop1\", GMM_means[0], GMM_covariances[0][0][0],GMM_weights[0])\n",
    "print(\"pop2\", GMM_means[1], GMM_covariances[1][0][0],GMM_weights[1])"
   ]
  },
  {
   "cell_type": "markdown",
   "id": "5674f34a-66fc-4909-93ed-fb92cd8389e4",
   "metadata": {},
   "source": [
    "We are going to plot some histograms.\n",
    "The first one plots the equal spaced histogram, the second plots the equal data histogram\n"
   ]
  },
  {
   "cell_type": "code",
   "execution_count": 48,
   "id": "878f9b7c-e3a4-4dc5-8572-61380202767b",
   "metadata": {},
   "outputs": [
    {
     "data": {
      "image/png": "[encoded data removed]",
      "text/plain": [
       "<Figure size 1200x800 with 1 Axes>"
      ]
     },
     "metadata": {},
     "output_type": "display_data"
    }
   ],
   "source": [
    "do_plot_compare(merged_data,numbers,mean_pop1,var_pop1,prop_pop1,mean_pop2,var_pop2,prop_pop2)"
   ]
  },
  {
   "cell_type": "code",
   "execution_count": 50,
   "id": "65e275bd-b112-4a39-8100-1136e38e6c41",
   "metadata": {},
   "outputs": [
    {
     "data": {
      "image/png": "[encoded data removed]",
      "text/plain": [
       "<Figure size 1200x800 with 1 Axes>"
      ]
     },
     "metadata": {},
     "output_type": "display_data"
    }
   ],
   "source": [
    "# equal spaced graph\n",
    "bins = 30\n",
    "\n",
    "numbers_2 = create_bins(merged_data, bins)\n",
    "\n",
    "do_plot_compare(merged_data,numbers_2,mean_pop1,var_pop1,prop_pop1,mean_pop2,var_pop2,prop_pop2)"
   ]
  },
  {
   "cell_type": "markdown",
   "id": "6638f2b4-cbab-4b27-a143-8ee9ce0fb320",
   "metadata": {},
   "source": [
    "Lets see how it tackles a different set of values, one with a smaller subset"
   ]
  },
  {
   "cell_type": "code",
   "execution_count": 63,
   "id": "497d0820-41bd-4e8f-b081-0435b4cedc9b",
   "metadata": {},
   "outputs": [],
   "source": [
    "np.random.seed(42)\n",
    "\n",
    "# Generate the simulated data\n",
    "mean1 = 0\n",
    "variance1 = 1\n",
    "mean2 = 1\n",
    "variance2 = 3\n",
    "size1 = 100\n",
    "size2 = 500\n",
    "\n",
    "variables_new = {\n",
    "    'mean_pop1': mean1,\n",
    "    'var_pop1': variance1,\n",
    "    'prop_pop1': size1,\n",
    "    'mean_pop2': mean2,\n",
    "    'var_pop2': variance2,\n",
    "    'prop_pop2': size2\n",
    "}\n",
    "data1, data2 = generate_normal_data(mean1, variance1, mean2, variance2, size1, size2)\n",
    "\n",
    "merged_data = np.concatenate((data1, data2))\n"
   ]
  },
  {
   "cell_type": "markdown",
   "id": "60f48623-5352-41b0-ac12-5fcac4122dbb",
   "metadata": {},
   "source": [
    "Run the GMM. we need to specify values, else the random init will not go well. "
   ]
  },
  {
   "cell_type": "code",
   "execution_count": 53,
   "id": "855c57e5-b4af-442d-9930-8266dc969ab1",
   "metadata": {},
   "outputs": [],
   "source": [
    "initial_means = np.array([[-0.5], [2]])\n",
    "initial_covariances = np.array([[0.5], [1.0]])  \n",
    "initial_weights = np.array([0.1, 0.9])\n",
    "\n",
    "data3 = merged_data.reshape(-1, 1)\n",
    "gmm = GaussianMixture(n_components=2, covariance_type='full', random_state=0)\n",
    "# Set initial parameters\n",
    "gmm.means_init = initial_means\n",
    "gmm.covariances_init = initial_covariances\n",
    "gmm.weights_init = initial_weights"
   ]
  },
  {
   "cell_type": "code",
   "execution_count": 66,
   "id": "22f2d5da-9d4b-4a68-a2f3-9f4c9549f0f3",
   "metadata": {},
   "outputs": [
    {
     "name": "stdout",
     "output_type": "stream",
     "text": [
      "Means: [-0.31444066  1.36634493]\n",
      "Covariances: [1.06160315 2.60703007]\n",
      "Weights: [0.3235139 0.6764861]\n"
     ]
    }
   ],
   "source": [
    "# Fit the model\n",
    "\n",
    "gmm.fit(data3)\n",
    "\n",
    "# Retrieve the means, covariances, and weights\n",
    "GMM_means = gmm.means_.flatten()\n",
    "GMM_covariances = gmm.covariances_.flatten()\n",
    "GMM_weights = gmm.weights_\n",
    "\n",
    "print(\"Means:\", GMM_means)\n",
    "print(\"Covariances:\", GMM_covariances)\n",
    "print(\"Weights:\", GMM_weights)\n"
   ]
  },
  {
   "cell_type": "code",
   "execution_count": 55,
   "id": "631b98e9-ee4c-4477-8089-faf00e1d52dc",
   "metadata": {},
   "outputs": [
    {
     "name": "stdout",
     "output_type": "stream",
     "text": [
      "we are done 169 31.566752110261586\n",
      "mean 0.52 var 1.9 prop 0.78\n",
      "mean 1.99 var 4.65 prop 0.22\n",
      "we are done 711 31.676236978764635\n",
      "mean 0.49 var 1.81 prop 0.76\n",
      "mean 1.98 var 4.43 prop 0.24\n"
     ]
    }
   ],
   "source": [
    "\n",
    "# initial the guesses\n",
    "mean_pop1 = -0.5\n",
    "var_pop1 = 0.5\n",
    "prop_pop1 = 0.1\n",
    "mean_pop2 = 2\n",
    "var_pop2 = 1\n",
    "prop_pop2 = 0.9\n",
    "\n",
    "variables_guess = {\n",
    "    'mean_pop1': mean_pop1,\n",
    "    'var_pop1': var_pop1,\n",
    "    'prop_pop1': prop_pop1,\n",
    "    'mean_pop2': mean_pop2,\n",
    "    'var_pop2': var_pop2,\n",
    "    'prop_pop2': prop_pop2\n",
    "}\n",
    "\n",
    "bins = 30\n",
    "\n",
    "#numbers = create_bins(merged_data, bins)\n",
    "numbers = create_bins_equal(merged_data, bins)\n",
    "\n",
    "pop_observed = count_entries_within_boundaries(merged_data, numbers)\n",
    "\n",
    "# do perturb\n",
    "inc = 0.01\n",
    "\n",
    "\n",
    "mean_pop1,var_pop1,prop_pop1,mean_pop2,var_pop2,prop_pop2,loss_value = do_run_fast(pop_observed, numbers, mean_pop1, var_pop1, prop_pop1, mean_pop2, var_pop2, prop_pop2)\n",
    "fast_run = store_variables(mean_pop1, var_pop1, prop_pop1, mean_pop2, var_pop2, prop_pop2)\n",
    "run_results[loss_value]= fast_run\n",
    "# initial the guesses\n",
    "mean_pop1 = variables_guess['mean_pop1']\n",
    "var_pop1 = variables_guess['var_pop1']\n",
    "prop_pop1 = variables_guess['prop_pop1']\n",
    "mean_pop2 = variables_guess['mean_pop2']\n",
    "var_pop2 = variables_guess['var_pop2']\n",
    "prop_pop2 = variables_guess['prop_pop2']\n",
    "\n",
    "mean_pop1,var_pop1,prop_pop1,mean_pop2,var_pop2,prop_pop2,loss_value= do_run_slow(pop_observed, numbers, mean_pop1, var_pop1, prop_pop1, mean_pop2, var_pop2, prop_pop2)\n",
    "slow_run = store_variables(mean_pop1, var_pop1, prop_pop1, mean_pop2, var_pop2, prop_pop2)\n",
    "run_results[loss_value]= slow_run\n",
    "\n"
   ]
  },
  {
   "cell_type": "code",
   "execution_count": 67,
   "id": "85016f33-cecf-4cd8-9a3a-7f906df7f367",
   "metadata": {},
   "outputs": [
    {
     "name": "stdout",
     "output_type": "stream",
     "text": [
      "original values\n",
      "mean_pop1 0\n",
      "var_pop1 1\n",
      "prop_pop1 100\n",
      "mean_pop2 1\n",
      "var_pop2 3\n",
      "prop_pop2 500\n",
      "fast run\n",
      "mean 0.52 var 1.9 prop 0.78\n",
      "mean 1.99 var 4.65 prop 0.22\n",
      "slow run\n",
      "mean 0.49 var 1.81 prop 0.76\n",
      "mean 1.98 var 4.43 prop 0.24\n",
      "GMM Values\n",
      "pop1 -0.3144406562882985 1.0616031485544846 0.3235139019592814\n",
      "pop2 1.3663449257728812 2.6070300722139588 0.6764860980407186\n"
     ]
    }
   ],
   "source": [
    "print('original values')\n",
    "for key, value in variables_new.items():\n",
    "    print(key,value)\n",
    "print('fast run')\n",
    "#print(fast_run)\n",
    "print(\"mean\",fast_run[0],\"var\", fast_run[1], \"prop\", fast_run[2])\n",
    "print(\"mean\",fast_run[3], \"var\",fast_run[4], \"prop\", fast_run[5])\n",
    "print('slow run')\n",
    "#print(slow_run)\n",
    "print(\"mean\",slow_run[0],\"var\", slow_run[1], \"prop\", slow_run[2])\n",
    "print(\"mean\",slow_run[3], \"var\",slow_run[4], \"prop\", slow_run[5])\n",
    "print(\"GMM Values\")\n",
    "print(\"pop1\", GMM_means[0], GMM_covariances[0],GMM_weights[0])\n",
    "print(\"pop2\", GMM_means[1], GMM_covariances[1],GMM_weights[1])"
   ]
  },
  {
   "cell_type": "markdown",
   "id": "8920ae72-73a9-4189-a989-e2a57b4afd92",
   "metadata": {},
   "source": [
    "Turns out our algorithm works quite well! \n",
    "\n",
    "It gets the proportions way closer, but mean and variance are different\n",
    "\n",
    "We could probably get better results by playing around with it"
   ]
  },
  {
   "cell_type": "markdown",
   "id": "76e68b3c-dcca-4b51-9c7a-6ce7deecc815",
   "metadata": {},
   "source": [
    "# Visualisation\n",
    "Another way of visualising is to look at how it compares to the GMM"
   ]
  },
  {
   "cell_type": "code",
   "execution_count": 61,
   "id": "5e916825-0388-4e3c-80e7-0171eba18534",
   "metadata": {},
   "outputs": [
    {
     "data": {
      "image/png": "[encoded data removed]",
      "text/plain": [
       "<Figure size 1000x600 with 1 Axes>"
      ]
     },
     "metadata": {},
     "output_type": "display_data"
    }
   ],
   "source": [
    "\n",
    "# Define the range of x values\n",
    "x = np.linspace(-5, 10, 1000)\n",
    "\n",
    "# Compute the PDF for each normal distribution\n",
    "pdf1 = norm.pdf(x, mean1, variance1**0.5)\n",
    "pdf2 = norm.pdf(x, mean2, variance2**0.5)\n",
    "pdf3 = norm.pdf(x, mean_pop1, var_pop1 ** 0.5)\n",
    "pdf4 = norm.pdf(x, mean_pop2, var_pop2 ** 0.5)\n",
    "pdf5 = norm.pdf(x, GMM_means[0], float(GMM_covariances[0][0][0])**0.5)\n",
    "pdf6 = norm.pdf(x, GMM_means[1], float(GMM_covariances[1][0][0])**0.5)\n",
    "# Combine the PDFs (for example, we can simply add them, or use a weighted sum)\n",
    "amalgamated_pdf = pdf1 * size1 /(size1+size2) + pdf2 * size2 /(size1+size2) # If you want a weighted sum, adjust accordingly\n",
    "amalgamated_pdf2 = pdf3 * prop_pop1 + pdf4 * prop_pop2\n",
    "amalgamated_pdf3 = pdf5 * GMM_weights[0] + pdf6 * GMM_weights[1]\n",
    "# Plot the individual PDFs and the amalgamated PDF\n",
    "plt.figure(figsize=(10, 6))\n",
    "plt.plot(x, amalgamated_pdf, label='Actual', color='black')\n",
    "plt.plot(x, amalgamated_pdf2, label='Clustered', color='red')\n",
    "plt.plot(x, amalgamated_pdf3, label='GMM', color='blue')\n",
    "plt.yscale('log')\n",
    "plt.title('Amalgamated PDF of Two Normal Distributions')\n",
    "plt.xlabel('x')\n",
    "plt.ylabel('Probability Density')\n",
    "plt.legend()\n",
    "plt.grid(True)\n",
    "plt.show(block=True)"
   ]
  },
  {
   "cell_type": "markdown",
   "id": "c07f6372-b838-48a8-8272-04630a47b87d",
   "metadata": {},
   "source": [
    "The clustering method is surprising close.\n",
    "\n",
    "The results could be better or worse by changing loss function, bin selection, or other starting variables. "
   ]
  },
  {
   "cell_type": "markdown",
   "id": "270ae643-1f16-4297-822a-73199f385603",
   "metadata": {},
   "source": [
    "# Conclusion:\n",
    "\n",
    "The current method works well when compared to GMM. \n",
    "\n",
    "There is no full proof method to determining underlying distributions, but this method offers a flexible (but slower) way of working with non gaussian methods. "
   ]
  }
 ],
 "metadata": {
  "kernelspec": {
   "display_name": "Python 3 (ipykernel)",
   "language": "python",
   "name": "python3"
  },
  "language_info": {
   "codemirror_mode": {
    "name": "ipython",
    "version": 3
   },
   "file_extension": ".py",
   "mimetype": "text/x-python",
   "name": "python",
   "nbconvert_exporter": "python",
   "pygments_lexer": "ipython3",
   "version": "3.10.0"
  }
 },
 "nbformat": 4,
 "nbformat_minor": 5
}
